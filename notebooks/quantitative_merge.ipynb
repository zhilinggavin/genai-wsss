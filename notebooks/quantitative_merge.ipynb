{
 "cells": [
  {
   "cell_type": "markdown",
   "metadata": {},
   "source": [
    "## This notebook merges the slice check CSV files of each patient into a single file.\n",
    "227 patient slice_check.csv files -> one single file"
   ]
  },
  {
   "cell_type": "code",
   "execution_count": null,
   "metadata": {},
   "outputs": [],
   "source": [
    "import pandas as pd\n",
    "import os\n",
    "import glob\n",
    "'''\n",
    "quantitative file stored path\n",
    "'''\n",
    "# # COIN\n",
    "# quant_file_dir = '/media/NAS06/gavinyue/disentanglement/scripts_segmentation/unet_train_test/quantification_result/coin_genlabel0'\n",
    "# save_path = '/media/NAS06/gavinyue/genai-wsss/experiments/wsss_coin/results/AIPFR/quant/slice_check.csv'\n",
    "\n",
    "# # full_supervised_unet\n",
    "# quant_file_dir = '/media/NAS06/gavinyue/disentanglement/scripts_segmentation/unet_train_test/quantification_result/full_supervised_unet'\n",
    "# save_path = '/media/NAS06/gavinyue/genai-wsss/experiments/full_supervised_unet/results/AIPFR/quant/slice_check.csv'\n",
    "\n",
    "# WSSS unet\n",
    "quant_file_dir = '/media/NAS06/gavinyue/disentanglement/scripts_segmentation/unet_train_test/exp_img'\n",
    "save_path = '/media/NAS06/gavinyue/genai-wsss/experiments/wsss_unet/results/AIPFR/quant/slice_check.csv'\n",
    "postfix = '_pixel_check.csv'\n"
   ]
  },
  {
   "cell_type": "code",
   "execution_count": 8,
   "metadata": {},
   "outputs": [
    {
     "name": "stdout",
     "output_type": "stream",
     "text": [
      "227\n"
     ]
    }
   ],
   "source": [
    "quant_files = glob.glob(os.path.join(quant_file_dir, '*' + postfix))\n",
    "quant_files.sort()\n",
    "print(len(quant_files))\n",
    "assert len(quant_files) == 227, 'The number of files is not correct'\n",
    "pd.concat([pd.read_csv(file) for file in quant_files], axis=0).to_csv(save_path, index=False)"
   ]
  },
  {
   "cell_type": "code",
   "execution_count": 9,
   "metadata": {},
   "outputs": [
    {
     "name": "stdout",
     "output_type": "stream",
     "text": [
      "       Case                     ID     voxel  pixel_num_lung  \\\n",
      "0  02_00019  case02_00019_slice100  0.617981             756   \n",
      "1  02_00019  case02_00019_slice101  0.617981             858   \n",
      "2  02_00019  case02_00019_slice102  0.617981             972   \n",
      "3  02_00019  case02_00019_slice103  0.617981            1134   \n",
      "4  02_00019  case02_00019_slice104  0.617981            1158   \n",
      "\n",
      "   pixel_num_fibrosis  slice_volume_lung  slice_volume_fibrosis  \n",
      "0                 168         467.193604             103.820801  \n",
      "1                 184         530.227661             113.708496  \n",
      "2                 232         600.677490             143.371582  \n",
      "3                 296         700.790405             182.922363  \n",
      "4                 316         715.621948             195.281982  \n",
      "Index(['Case', 'ID', 'voxel', 'pixel_num_lung', 'pixel_num_fibrosis',\n",
      "       'slice_volume_lung', 'slice_volume_fibrosis'],\n",
      "      dtype='object')\n"
     ]
    }
   ],
   "source": [
    "df = pd.read_csv(save_path)\n",
    "print(df.head())\n",
    "print(df.columns)"
   ]
  },
  {
   "cell_type": "code",
   "execution_count": 10,
   "metadata": {},
   "outputs": [
    {
     "name": "stdout",
     "output_type": "stream",
     "text": [
      "Index(['Case', 'ID', 'voxel', 'pixel_num_lung', 'slice_volume_lung',\n",
      "       'pixel_num_fibrosis', 'slice_volume_fibrosis'],\n",
      "      dtype='object')\n"
     ]
    }
   ],
   "source": [
    "new_order = ['Case', 'ID','voxel','pixel_num_lung','slice_volume_lung', 'pixel_num_fibrosis', 'slice_volume_fibrosis']\n",
    "df = df[new_order]\n",
    "print(df.columns)"
   ]
  },
  {
   "cell_type": "code",
   "execution_count": 11,
   "metadata": {},
   "outputs": [
    {
     "name": "stdout",
     "output_type": "stream",
     "text": [
      "       Case                     ID  size     voxel  pixel_num_lung  \\\n",
      "0  02_00019  case02_00019_slice100   255  0.617981             756   \n",
      "1  02_00019  case02_00019_slice101   255  0.617981             858   \n",
      "2  02_00019  case02_00019_slice102   255  0.617981             972   \n",
      "3  02_00019  case02_00019_slice103   255  0.617981            1134   \n",
      "4  02_00019  case02_00019_slice104   255  0.617981            1158   \n",
      "\n",
      "   slice_volume_lung  pixel_num_fibrosis  slice_volume_fibrosis  \n",
      "0         467.193604                 168             103.820801  \n",
      "1         530.227661                 184             113.708496  \n",
      "2         600.677490                 232             143.371582  \n",
      "3         700.790405                 296             182.922363  \n",
      "4         715.621948                 316             195.281982  \n",
      "Merged Slice check quantitative csv file Done\n"
     ]
    }
   ],
   "source": [
    "df.insert(df.columns.get_loc('ID') + 1, 'size', 255)\n",
    "print(df.head())\n",
    "df.to_csv(save_path, index=False)\n",
    "print('Merged Slice check quantitative csv file Done')"
   ]
  },
  {
   "cell_type": "markdown",
   "metadata": {},
   "source": [
    "## search `real_volume_quantification_512.csv` and add size column"
   ]
  },
  {
   "cell_type": "code",
   "execution_count": 17,
   "metadata": {},
   "outputs": [
    {
     "name": "stdout",
     "output_type": "stream",
     "text": [
      "/media/NAS06/gavinyue/genai-wsss/experiments/**/quant/real_volume_quantification_512.csv\n",
      "['/media/NAS06/gavinyue/genai-wsss/experiments/full_supervised_unet/results/AIPFR/quant/real_volume_quantification_512.csv', '/media/NAS06/gavinyue/genai-wsss/experiments/wsss_unet/results/AIPFR/quant/real_volume_quantification_512.csv', '/media/NAS06/gavinyue/genai-wsss/experiments/wsss_coin/results/AIPFR/quant/real_volume_quantification_512.csv']\n"
     ]
    }
   ],
   "source": [
    "import pandas as pd\n",
    "import os\n",
    "import glob\n",
    "\n",
    "csv_name = 'real_volume_quantification_512.csv'\n",
    "search_path = '/media/NAS06/gavinyue/genai-wsss/experiments/**/quant/' + csv_name\n",
    "print(search_path)\n",
    "files = glob.glob(search_path, recursive=True)\n",
    "print(files)"
   ]
  },
  {
   "cell_type": "code",
   "execution_count": 23,
   "metadata": {},
   "outputs": [
    {
     "name": "stdout",
     "output_type": "stream",
     "text": [
      "Index(['case', 'size', 'volume_lung', 'volume_fibrosis', 'total_pixel_lung',\n",
      "       'total_pixel_fibrosis'],\n",
      "      dtype='object')\n",
      "size already exists\n",
      "Index(['case', 'size', 'volume_lung', 'volume_fibrosis', 'total_pixel_lung',\n",
      "       'total_pixel_fibrosis'],\n",
      "      dtype='object')\n",
      "size already exists\n",
      "Index(['case', 'size', 'volume_lung', 'volume_fibrosis', 'total_pixel_lung',\n",
      "       'total_pixel_fibrosis'],\n",
      "      dtype='object')\n",
      "size already exists\n"
     ]
    }
   ],
   "source": [
    "for file in files:\n",
    "    df = pd.read_csv(file)\n",
    "    print(df.columns)\n",
    "    if 'size' in df.columns:\n",
    "        print('size already exists')\n",
    "        continue\n",
    "    \n",
    "    df.insert(df.columns.get_loc('case') + 1, 'size', 512)\n",
    "    print(df.head())\n",
    "    df.to_csv(file, index=False)\n",
    "    print('Update size Done')"
   ]
  }
 ],
 "metadata": {
  "kernelspec": {
   "display_name": "codebase",
   "language": "python",
   "name": "python3"
  },
  "language_info": {
   "codemirror_mode": {
    "name": "ipython",
    "version": 3
   },
   "file_extension": ".py",
   "mimetype": "text/x-python",
   "name": "python",
   "nbconvert_exporter": "python",
   "pygments_lexer": "ipython3",
   "version": "3.8.19"
  }
 },
 "nbformat": 4,
 "nbformat_minor": 2
}
